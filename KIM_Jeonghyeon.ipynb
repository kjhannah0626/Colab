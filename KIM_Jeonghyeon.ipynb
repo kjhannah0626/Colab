{
  "nbformat": 4,
  "nbformat_minor": 0,
  "metadata": {
    "colab": {
      "name": " KIM Jeonghyeon",
      "provenance": [],
      "collapsed_sections": []
    },
    "kernelspec": {
      "name": "python3",
      "display_name": "Python 3"
    },
    "language_info": {
      "name": "python"
    }
  },
  "cells": [
    {
      "cell_type": "markdown",
      "metadata": {
        "id": "E34ieR2mftOZ"
      },
      "source": [
        "Read in the ramen ratings file as a dataframe"
      ]
    },
    {
      "cell_type": "code",
      "metadata": {
        "id": "Q2-Frt4ddLyj"
      },
      "source": [
        "import pandas as pd\n",
        "import numpy as np "
      ],
      "execution_count": 1,
      "outputs": []
    },
    {
      "cell_type": "code",
      "metadata": {
        "colab": {
          "base_uri": "https://localhost:8080/",
          "height": 203
        },
        "id": "WeLKFYBte5Hl",
        "outputId": "d33089e7-014d-4e5d-d0e3-da7ebbdb0550"
      },
      "source": [
        "df = pd.read_csv(\"/content/ramen-ratings.csv\")\n",
        "df.head()"
      ],
      "execution_count": 2,
      "outputs": [
        {
          "output_type": "execute_result",
          "data": {
            "text/html": [
              "<div>\n",
              "<style scoped>\n",
              "    .dataframe tbody tr th:only-of-type {\n",
              "        vertical-align: middle;\n",
              "    }\n",
              "\n",
              "    .dataframe tbody tr th {\n",
              "        vertical-align: top;\n",
              "    }\n",
              "\n",
              "    .dataframe thead th {\n",
              "        text-align: right;\n",
              "    }\n",
              "</style>\n",
              "<table border=\"1\" class=\"dataframe\">\n",
              "  <thead>\n",
              "    <tr style=\"text-align: right;\">\n",
              "      <th></th>\n",
              "      <th>Review #</th>\n",
              "      <th>Brand</th>\n",
              "      <th>Variety</th>\n",
              "      <th>Style</th>\n",
              "      <th>Country</th>\n",
              "      <th>Stars</th>\n",
              "      <th>Top Ten</th>\n",
              "    </tr>\n",
              "  </thead>\n",
              "  <tbody>\n",
              "    <tr>\n",
              "      <th>0</th>\n",
              "      <td>2580</td>\n",
              "      <td>New Touch</td>\n",
              "      <td>T's Restaurant Tantanmen</td>\n",
              "      <td>Cup</td>\n",
              "      <td>Japan</td>\n",
              "      <td>3.75</td>\n",
              "      <td>NaN</td>\n",
              "    </tr>\n",
              "    <tr>\n",
              "      <th>1</th>\n",
              "      <td>2579</td>\n",
              "      <td>Just Way</td>\n",
              "      <td>Noodles Spicy Hot Sesame Spicy Hot Sesame Guan...</td>\n",
              "      <td>Pack</td>\n",
              "      <td>Taiwan</td>\n",
              "      <td>1</td>\n",
              "      <td>NaN</td>\n",
              "    </tr>\n",
              "    <tr>\n",
              "      <th>2</th>\n",
              "      <td>2578</td>\n",
              "      <td>Nissin</td>\n",
              "      <td>Cup Noodles Chicken Vegetable</td>\n",
              "      <td>Cup</td>\n",
              "      <td>USA</td>\n",
              "      <td>2.25</td>\n",
              "      <td>NaN</td>\n",
              "    </tr>\n",
              "    <tr>\n",
              "      <th>3</th>\n",
              "      <td>2577</td>\n",
              "      <td>Wei Lih</td>\n",
              "      <td>GGE Ramen Snack Tomato Flavor</td>\n",
              "      <td>Pack</td>\n",
              "      <td>Taiwan</td>\n",
              "      <td>2.75</td>\n",
              "      <td>NaN</td>\n",
              "    </tr>\n",
              "    <tr>\n",
              "      <th>4</th>\n",
              "      <td>2576</td>\n",
              "      <td>Ching's Secret</td>\n",
              "      <td>Singapore Curry</td>\n",
              "      <td>Pack</td>\n",
              "      <td>India</td>\n",
              "      <td>3.75</td>\n",
              "      <td>NaN</td>\n",
              "    </tr>\n",
              "  </tbody>\n",
              "</table>\n",
              "</div>"
            ],
            "text/plain": [
              "   Review #           Brand  ... Stars Top Ten\n",
              "0      2580       New Touch  ...  3.75     NaN\n",
              "1      2579        Just Way  ...     1     NaN\n",
              "2      2578          Nissin  ...  2.25     NaN\n",
              "3      2577         Wei Lih  ...  2.75     NaN\n",
              "4      2576  Ching's Secret  ...  3.75     NaN\n",
              "\n",
              "[5 rows x 7 columns]"
            ]
          },
          "metadata": {},
          "execution_count": 2
        }
      ]
    },
    {
      "cell_type": "markdown",
      "metadata": {
        "id": "PScDieOCfyr2"
      },
      "source": [
        "set appropriate index and column names and print out an overview of the dataframe"
      ]
    },
    {
      "cell_type": "code",
      "metadata": {
        "colab": {
          "base_uri": "https://localhost:8080/",
          "height": 203
        },
        "id": "6k6DFabcf4iZ",
        "outputId": "e555ed00-c344-491f-e763-673ce7a98c6b"
      },
      "source": [
        "dfR = df.rename(columns={\"Review #\": \"Review\",\"Top Ten\":\"Ten\"})\n",
        "dfR.head()"
      ],
      "execution_count": 3,
      "outputs": [
        {
          "output_type": "execute_result",
          "data": {
            "text/html": [
              "<div>\n",
              "<style scoped>\n",
              "    .dataframe tbody tr th:only-of-type {\n",
              "        vertical-align: middle;\n",
              "    }\n",
              "\n",
              "    .dataframe tbody tr th {\n",
              "        vertical-align: top;\n",
              "    }\n",
              "\n",
              "    .dataframe thead th {\n",
              "        text-align: right;\n",
              "    }\n",
              "</style>\n",
              "<table border=\"1\" class=\"dataframe\">\n",
              "  <thead>\n",
              "    <tr style=\"text-align: right;\">\n",
              "      <th></th>\n",
              "      <th>Review</th>\n",
              "      <th>Brand</th>\n",
              "      <th>Variety</th>\n",
              "      <th>Style</th>\n",
              "      <th>Country</th>\n",
              "      <th>Stars</th>\n",
              "      <th>Ten</th>\n",
              "    </tr>\n",
              "  </thead>\n",
              "  <tbody>\n",
              "    <tr>\n",
              "      <th>0</th>\n",
              "      <td>2580</td>\n",
              "      <td>New Touch</td>\n",
              "      <td>T's Restaurant Tantanmen</td>\n",
              "      <td>Cup</td>\n",
              "      <td>Japan</td>\n",
              "      <td>3.75</td>\n",
              "      <td>NaN</td>\n",
              "    </tr>\n",
              "    <tr>\n",
              "      <th>1</th>\n",
              "      <td>2579</td>\n",
              "      <td>Just Way</td>\n",
              "      <td>Noodles Spicy Hot Sesame Spicy Hot Sesame Guan...</td>\n",
              "      <td>Pack</td>\n",
              "      <td>Taiwan</td>\n",
              "      <td>1</td>\n",
              "      <td>NaN</td>\n",
              "    </tr>\n",
              "    <tr>\n",
              "      <th>2</th>\n",
              "      <td>2578</td>\n",
              "      <td>Nissin</td>\n",
              "      <td>Cup Noodles Chicken Vegetable</td>\n",
              "      <td>Cup</td>\n",
              "      <td>USA</td>\n",
              "      <td>2.25</td>\n",
              "      <td>NaN</td>\n",
              "    </tr>\n",
              "    <tr>\n",
              "      <th>3</th>\n",
              "      <td>2577</td>\n",
              "      <td>Wei Lih</td>\n",
              "      <td>GGE Ramen Snack Tomato Flavor</td>\n",
              "      <td>Pack</td>\n",
              "      <td>Taiwan</td>\n",
              "      <td>2.75</td>\n",
              "      <td>NaN</td>\n",
              "    </tr>\n",
              "    <tr>\n",
              "      <th>4</th>\n",
              "      <td>2576</td>\n",
              "      <td>Ching's Secret</td>\n",
              "      <td>Singapore Curry</td>\n",
              "      <td>Pack</td>\n",
              "      <td>India</td>\n",
              "      <td>3.75</td>\n",
              "      <td>NaN</td>\n",
              "    </tr>\n",
              "  </tbody>\n",
              "</table>\n",
              "</div>"
            ],
            "text/plain": [
              "   Review           Brand  ... Stars  Ten\n",
              "0    2580       New Touch  ...  3.75  NaN\n",
              "1    2579        Just Way  ...     1  NaN\n",
              "2    2578          Nissin  ...  2.25  NaN\n",
              "3    2577         Wei Lih  ...  2.75  NaN\n",
              "4    2576  Ching's Secret  ...  3.75  NaN\n",
              "\n",
              "[5 rows x 7 columns]"
            ]
          },
          "metadata": {},
          "execution_count": 3
        }
      ]
    },
    {
      "cell_type": "markdown",
      "metadata": {
        "id": "nKKnRfTkjRye"
      },
      "source": [
        "Print a subset of the dataframe that only has the information of the brand of ramen and its score "
      ]
    },
    {
      "cell_type": "code",
      "metadata": {
        "colab": {
          "base_uri": "https://localhost:8080/",
          "height": 203
        },
        "id": "AujonS2kjXDN",
        "outputId": "7722dcd4-5f30-4540-9e6a-21e005214a6f"
      },
      "source": [
        "dfR_subset = df[['Brand','Stars']]\n",
        "dfR_subset.head()"
      ],
      "execution_count": 4,
      "outputs": [
        {
          "output_type": "execute_result",
          "data": {
            "text/html": [
              "<div>\n",
              "<style scoped>\n",
              "    .dataframe tbody tr th:only-of-type {\n",
              "        vertical-align: middle;\n",
              "    }\n",
              "\n",
              "    .dataframe tbody tr th {\n",
              "        vertical-align: top;\n",
              "    }\n",
              "\n",
              "    .dataframe thead th {\n",
              "        text-align: right;\n",
              "    }\n",
              "</style>\n",
              "<table border=\"1\" class=\"dataframe\">\n",
              "  <thead>\n",
              "    <tr style=\"text-align: right;\">\n",
              "      <th></th>\n",
              "      <th>Brand</th>\n",
              "      <th>Stars</th>\n",
              "    </tr>\n",
              "  </thead>\n",
              "  <tbody>\n",
              "    <tr>\n",
              "      <th>0</th>\n",
              "      <td>New Touch</td>\n",
              "      <td>3.75</td>\n",
              "    </tr>\n",
              "    <tr>\n",
              "      <th>1</th>\n",
              "      <td>Just Way</td>\n",
              "      <td>1</td>\n",
              "    </tr>\n",
              "    <tr>\n",
              "      <th>2</th>\n",
              "      <td>Nissin</td>\n",
              "      <td>2.25</td>\n",
              "    </tr>\n",
              "    <tr>\n",
              "      <th>3</th>\n",
              "      <td>Wei Lih</td>\n",
              "      <td>2.75</td>\n",
              "    </tr>\n",
              "    <tr>\n",
              "      <th>4</th>\n",
              "      <td>Ching's Secret</td>\n",
              "      <td>3.75</td>\n",
              "    </tr>\n",
              "  </tbody>\n",
              "</table>\n",
              "</div>"
            ],
            "text/plain": [
              "            Brand Stars\n",
              "0       New Touch  3.75\n",
              "1        Just Way     1\n",
              "2          Nissin  2.25\n",
              "3         Wei Lih  2.75\n",
              "4  Ching's Secret  3.75"
            ]
          },
          "metadata": {},
          "execution_count": 4
        }
      ]
    },
    {
      "cell_type": "markdown",
      "metadata": {
        "id": "v937eNhXkbcp"
      },
      "source": [
        "Oh no, it seems the last column is full of null values. Convert these to NaN."
      ]
    },
    {
      "cell_type": "code",
      "metadata": {
        "colab": {
          "base_uri": "https://localhost:8080/"
        },
        "id": "3pDo8JWHvwE6",
        "outputId": "567f0c45-127d-45cd-885a-b5dcd8605a41"
      },
      "source": [
        "dfR.isnull().sum()"
      ],
      "execution_count": 5,
      "outputs": [
        {
          "output_type": "execute_result",
          "data": {
            "text/plain": [
              "Review        0\n",
              "Brand         0\n",
              "Variety       0\n",
              "Style         2\n",
              "Country       0\n",
              "Stars         0\n",
              "Ten        2539\n",
              "dtype: int64"
            ]
          },
          "metadata": {},
          "execution_count": 5
        }
      ]
    },
    {
      "cell_type": "code",
      "metadata": {
        "colab": {
          "base_uri": "https://localhost:8080/",
          "height": 203
        },
        "id": "n6Ei4WcNOVOq",
        "outputId": "2f49c2af-5c4b-468e-adb9-d6b24bfeb2c3"
      },
      "source": [
        "dfR['Ten'] = dfR['Ten'].replace({np.nan:0})\n",
        "dfR.head()"
      ],
      "execution_count": 7,
      "outputs": [
        {
          "output_type": "execute_result",
          "data": {
            "text/html": [
              "<div>\n",
              "<style scoped>\n",
              "    .dataframe tbody tr th:only-of-type {\n",
              "        vertical-align: middle;\n",
              "    }\n",
              "\n",
              "    .dataframe tbody tr th {\n",
              "        vertical-align: top;\n",
              "    }\n",
              "\n",
              "    .dataframe thead th {\n",
              "        text-align: right;\n",
              "    }\n",
              "</style>\n",
              "<table border=\"1\" class=\"dataframe\">\n",
              "  <thead>\n",
              "    <tr style=\"text-align: right;\">\n",
              "      <th></th>\n",
              "      <th>Review</th>\n",
              "      <th>Brand</th>\n",
              "      <th>Variety</th>\n",
              "      <th>Style</th>\n",
              "      <th>Country</th>\n",
              "      <th>Stars</th>\n",
              "      <th>Ten</th>\n",
              "    </tr>\n",
              "  </thead>\n",
              "  <tbody>\n",
              "    <tr>\n",
              "      <th>0</th>\n",
              "      <td>2580</td>\n",
              "      <td>New Touch</td>\n",
              "      <td>T's Restaurant Tantanmen</td>\n",
              "      <td>Cup</td>\n",
              "      <td>Japan</td>\n",
              "      <td>3.75</td>\n",
              "      <td>0</td>\n",
              "    </tr>\n",
              "    <tr>\n",
              "      <th>1</th>\n",
              "      <td>2579</td>\n",
              "      <td>Just Way</td>\n",
              "      <td>Noodles Spicy Hot Sesame Spicy Hot Sesame Guan...</td>\n",
              "      <td>Pack</td>\n",
              "      <td>Taiwan</td>\n",
              "      <td>1</td>\n",
              "      <td>0</td>\n",
              "    </tr>\n",
              "    <tr>\n",
              "      <th>2</th>\n",
              "      <td>2578</td>\n",
              "      <td>Nissin</td>\n",
              "      <td>Cup Noodles Chicken Vegetable</td>\n",
              "      <td>Cup</td>\n",
              "      <td>USA</td>\n",
              "      <td>2.25</td>\n",
              "      <td>0</td>\n",
              "    </tr>\n",
              "    <tr>\n",
              "      <th>3</th>\n",
              "      <td>2577</td>\n",
              "      <td>Wei Lih</td>\n",
              "      <td>GGE Ramen Snack Tomato Flavor</td>\n",
              "      <td>Pack</td>\n",
              "      <td>Taiwan</td>\n",
              "      <td>2.75</td>\n",
              "      <td>0</td>\n",
              "    </tr>\n",
              "    <tr>\n",
              "      <th>4</th>\n",
              "      <td>2576</td>\n",
              "      <td>Ching's Secret</td>\n",
              "      <td>Singapore Curry</td>\n",
              "      <td>Pack</td>\n",
              "      <td>India</td>\n",
              "      <td>3.75</td>\n",
              "      <td>0</td>\n",
              "    </tr>\n",
              "  </tbody>\n",
              "</table>\n",
              "</div>"
            ],
            "text/plain": [
              "   Review           Brand  ... Stars Ten\n",
              "0    2580       New Touch  ...  3.75   0\n",
              "1    2579        Just Way  ...     1   0\n",
              "2    2578          Nissin  ...  2.25   0\n",
              "3    2577         Wei Lih  ...  2.75   0\n",
              "4    2576  Ching's Secret  ...  3.75   0\n",
              "\n",
              "[5 rows x 7 columns]"
            ]
          },
          "metadata": {},
          "execution_count": 7
        }
      ]
    },
    {
      "cell_type": "markdown",
      "metadata": {
        "id": "sEzH73Qetz1f"
      },
      "source": [
        "Display only the rows where the brand is Nissin and the rating is above 3.5 "
      ]
    },
    {
      "cell_type": "code",
      "metadata": {
        "colab": {
          "base_uri": "https://localhost:8080/",
          "height": 417
        },
        "id": "31pA0TSmt1s0",
        "outputId": "41ef1fe1-c171-4c11-d4b0-22871053996f"
      },
      "source": [
        "dfR.loc[(dfR.Brand == \"Nissin\") & (dfR.Stars > '3.5')]"
      ],
      "execution_count": 8,
      "outputs": [
        {
          "output_type": "execute_result",
          "data": {
            "text/html": [
              "<div>\n",
              "<style scoped>\n",
              "    .dataframe tbody tr th:only-of-type {\n",
              "        vertical-align: middle;\n",
              "    }\n",
              "\n",
              "    .dataframe tbody tr th {\n",
              "        vertical-align: top;\n",
              "    }\n",
              "\n",
              "    .dataframe thead th {\n",
              "        text-align: right;\n",
              "    }\n",
              "</style>\n",
              "<table border=\"1\" class=\"dataframe\">\n",
              "  <thead>\n",
              "    <tr style=\"text-align: right;\">\n",
              "      <th></th>\n",
              "      <th>Review</th>\n",
              "      <th>Brand</th>\n",
              "      <th>Variety</th>\n",
              "      <th>Style</th>\n",
              "      <th>Country</th>\n",
              "      <th>Stars</th>\n",
              "      <th>Ten</th>\n",
              "    </tr>\n",
              "  </thead>\n",
              "  <tbody>\n",
              "    <tr>\n",
              "      <th>13</th>\n",
              "      <td>2567</td>\n",
              "      <td>Nissin</td>\n",
              "      <td>Deka Buto Kimchi Pork Flavor</td>\n",
              "      <td>Bowl</td>\n",
              "      <td>Japan</td>\n",
              "      <td>4.5</td>\n",
              "      <td>0</td>\n",
              "    </tr>\n",
              "    <tr>\n",
              "      <th>14</th>\n",
              "      <td>2566</td>\n",
              "      <td>Nissin</td>\n",
              "      <td>Demae Ramen Bar Noodle Aka Tonkotsu Flavour In...</td>\n",
              "      <td>Pack</td>\n",
              "      <td>Hong Kong</td>\n",
              "      <td>5</td>\n",
              "      <td>0</td>\n",
              "    </tr>\n",
              "    <tr>\n",
              "      <th>20</th>\n",
              "      <td>2560</td>\n",
              "      <td>Nissin</td>\n",
              "      <td>Cup Noodles Laksa Flavour</td>\n",
              "      <td>Cup</td>\n",
              "      <td>Hong Kong</td>\n",
              "      <td>4.25</td>\n",
              "      <td>0</td>\n",
              "    </tr>\n",
              "    <tr>\n",
              "      <th>27</th>\n",
              "      <td>2553</td>\n",
              "      <td>Nissin</td>\n",
              "      <td>Hakata Ramen Noodle White Tonkotsu</td>\n",
              "      <td>Bowl</td>\n",
              "      <td>Japan</td>\n",
              "      <td>4.75</td>\n",
              "      <td>0</td>\n",
              "    </tr>\n",
              "    <tr>\n",
              "      <th>31</th>\n",
              "      <td>2549</td>\n",
              "      <td>Nissin</td>\n",
              "      <td>Gekikara Ramen Extra Hot Ramen Goreng</td>\n",
              "      <td>Pack</td>\n",
              "      <td>Indonesia</td>\n",
              "      <td>4.5</td>\n",
              "      <td>0</td>\n",
              "    </tr>\n",
              "    <tr>\n",
              "      <th>...</th>\n",
              "      <td>...</td>\n",
              "      <td>...</td>\n",
              "      <td>...</td>\n",
              "      <td>...</td>\n",
              "      <td>...</td>\n",
              "      <td>...</td>\n",
              "      <td>...</td>\n",
              "    </tr>\n",
              "    <tr>\n",
              "      <th>2510</th>\n",
              "      <td>70</td>\n",
              "      <td>Nissin</td>\n",
              "      <td>Demae Ramen XO Sauce Seafood</td>\n",
              "      <td>Pack</td>\n",
              "      <td>Japan</td>\n",
              "      <td>4</td>\n",
              "      <td>0</td>\n",
              "    </tr>\n",
              "    <tr>\n",
              "      <th>2552</th>\n",
              "      <td>28</td>\n",
              "      <td>Nissin</td>\n",
              "      <td>Chikin Ramen</td>\n",
              "      <td>Pack</td>\n",
              "      <td>Japan</td>\n",
              "      <td>5</td>\n",
              "      <td>0</td>\n",
              "    </tr>\n",
              "    <tr>\n",
              "      <th>2553</th>\n",
              "      <td>27</td>\n",
              "      <td>Nissin</td>\n",
              "      <td>Demae Ramen Curry Flavor</td>\n",
              "      <td>Pack</td>\n",
              "      <td>Japan</td>\n",
              "      <td>4</td>\n",
              "      <td>0</td>\n",
              "    </tr>\n",
              "    <tr>\n",
              "      <th>2554</th>\n",
              "      <td>26</td>\n",
              "      <td>Nissin</td>\n",
              "      <td>Soba Noodles With Mayo Mustard Squirt</td>\n",
              "      <td>Pack</td>\n",
              "      <td>Japan</td>\n",
              "      <td>4</td>\n",
              "      <td>0</td>\n",
              "    </tr>\n",
              "    <tr>\n",
              "      <th>2557</th>\n",
              "      <td>23</td>\n",
              "      <td>Nissin</td>\n",
              "      <td>Top Ramen Creamy Chicken</td>\n",
              "      <td>Pack</td>\n",
              "      <td>USA</td>\n",
              "      <td>4.5</td>\n",
              "      <td>0</td>\n",
              "    </tr>\n",
              "  </tbody>\n",
              "</table>\n",
              "<p>255 rows × 7 columns</p>\n",
              "</div>"
            ],
            "text/plain": [
              "      Review   Brand  ... Stars Ten\n",
              "13      2567  Nissin  ...   4.5   0\n",
              "14      2566  Nissin  ...     5   0\n",
              "20      2560  Nissin  ...  4.25   0\n",
              "27      2553  Nissin  ...  4.75   0\n",
              "31      2549  Nissin  ...   4.5   0\n",
              "...      ...     ...  ...   ...  ..\n",
              "2510      70  Nissin  ...     4   0\n",
              "2552      28  Nissin  ...     5   0\n",
              "2553      27  Nissin  ...     4   0\n",
              "2554      26  Nissin  ...     4   0\n",
              "2557      23  Nissin  ...   4.5   0\n",
              "\n",
              "[255 rows x 7 columns]"
            ]
          },
          "metadata": {},
          "execution_count": 8
        }
      ]
    },
    {
      "cell_type": "markdown",
      "metadata": {
        "id": "XsLw3qjfu7So"
      },
      "source": [
        "Group the ramen by brand and calculate the mean, max, and min values in a single output."
      ]
    },
    {
      "cell_type": "code",
      "metadata": {
        "colab": {
          "base_uri": "https://localhost:8080/"
        },
        "id": "ERQthrPgy-Sk",
        "outputId": "7838ebf3-9bfc-415c-aa4c-7694b4e02c37"
      },
      "source": [
        "dfR.Stars.unique()"
      ],
      "execution_count": 9,
      "outputs": [
        {
          "output_type": "execute_result",
          "data": {
            "text/plain": [
              "array(['3.75', '1', '2.25', '2.75', '4.75', '4', '0.25', '2.5', '5',\n",
              "       '4.25', '4.5', '3.5', 'Unrated', '1.5', '3.25', '2', '0', '3',\n",
              "       '0.5', '4.00', '5.0', '3.50', '3.8', '4.3', '2.3', '5.00', '3.3',\n",
              "       '4.0', '3.00', '1.75', '3.0', '4.50', '0.75', '1.25', '1.1', '2.1',\n",
              "       '0.9', '3.1', '4.125', '3.125', '2.125', '2.9', '0.1', '2.8',\n",
              "       '3.7', '3.4', '3.6', '2.85', '3.2', '3.65', '1.8'], dtype=object)"
            ]
          },
          "metadata": {},
          "execution_count": 9
        }
      ]
    },
    {
      "cell_type": "code",
      "metadata": {
        "colab": {
          "base_uri": "https://localhost:8080/"
        },
        "id": "fa7WHM6Mzoos",
        "outputId": "741d3494-eacd-46db-ca5c-30b36de50449"
      },
      "source": [
        "dfR2 = dfR[dfR['Stars'] != 'Unrated']\n",
        "dfR2.Stars.unique()"
      ],
      "execution_count": 10,
      "outputs": [
        {
          "output_type": "execute_result",
          "data": {
            "text/plain": [
              "array(['3.75', '1', '2.25', '2.75', '4.75', '4', '0.25', '2.5', '5',\n",
              "       '4.25', '4.5', '3.5', '1.5', '3.25', '2', '0', '3', '0.5', '4.00',\n",
              "       '5.0', '3.50', '3.8', '4.3', '2.3', '5.00', '3.3', '4.0', '3.00',\n",
              "       '1.75', '3.0', '4.50', '0.75', '1.25', '1.1', '2.1', '0.9', '3.1',\n",
              "       '4.125', '3.125', '2.125', '2.9', '0.1', '2.8', '3.7', '3.4',\n",
              "       '3.6', '2.85', '3.2', '3.65', '1.8'], dtype=object)"
            ]
          },
          "metadata": {},
          "execution_count": 10
        }
      ]
    },
    {
      "cell_type": "code",
      "metadata": {
        "colab": {
          "base_uri": "https://localhost:8080/"
        },
        "id": "mYGuuSUT0m3p",
        "outputId": "ce3417f9-6fa9-4447-adf6-47cf814c3f53"
      },
      "source": [
        "# convert object to float for mean\n",
        "dfR2['Stars'] = dfR2['Stars'].astype(float)"
      ],
      "execution_count": 11,
      "outputs": [
        {
          "output_type": "stream",
          "name": "stderr",
          "text": [
            "/usr/local/lib/python3.7/dist-packages/ipykernel_launcher.py:2: SettingWithCopyWarning: \n",
            "A value is trying to be set on a copy of a slice from a DataFrame.\n",
            "Try using .loc[row_indexer,col_indexer] = value instead\n",
            "\n",
            "See the caveats in the documentation: https://pandas.pydata.org/pandas-docs/stable/user_guide/indexing.html#returning-a-view-versus-a-copy\n",
            "  \n"
          ]
        }
      ]
    },
    {
      "cell_type": "code",
      "metadata": {
        "colab": {
          "base_uri": "https://localhost:8080/",
          "height": 447
        },
        "id": "DI8WbbIgvB6s",
        "outputId": "61d0d15d-ed52-49b6-908c-f01332a72f5b"
      },
      "source": [
        "dfR2.groupby('Brand').Stars.agg([np.mean, max, min])"
      ],
      "execution_count": 12,
      "outputs": [
        {
          "output_type": "execute_result",
          "data": {
            "text/html": [
              "<div>\n",
              "<style scoped>\n",
              "    .dataframe tbody tr th:only-of-type {\n",
              "        vertical-align: middle;\n",
              "    }\n",
              "\n",
              "    .dataframe tbody tr th {\n",
              "        vertical-align: top;\n",
              "    }\n",
              "\n",
              "    .dataframe thead th {\n",
              "        text-align: right;\n",
              "    }\n",
              "</style>\n",
              "<table border=\"1\" class=\"dataframe\">\n",
              "  <thead>\n",
              "    <tr style=\"text-align: right;\">\n",
              "      <th></th>\n",
              "      <th>mean</th>\n",
              "      <th>max</th>\n",
              "      <th>min</th>\n",
              "    </tr>\n",
              "    <tr>\n",
              "      <th>Brand</th>\n",
              "      <th></th>\n",
              "      <th></th>\n",
              "      <th></th>\n",
              "    </tr>\n",
              "  </thead>\n",
              "  <tbody>\n",
              "    <tr>\n",
              "      <th>1 To 3 Noodles</th>\n",
              "      <td>4.000000</td>\n",
              "      <td>4.00</td>\n",
              "      <td>4.00</td>\n",
              "    </tr>\n",
              "    <tr>\n",
              "      <th>7 Select</th>\n",
              "      <td>3.750000</td>\n",
              "      <td>4.00</td>\n",
              "      <td>3.50</td>\n",
              "    </tr>\n",
              "    <tr>\n",
              "      <th>7 Select/Nissin</th>\n",
              "      <td>3.500000</td>\n",
              "      <td>3.50</td>\n",
              "      <td>3.50</td>\n",
              "    </tr>\n",
              "    <tr>\n",
              "      <th>A-One</th>\n",
              "      <td>2.750000</td>\n",
              "      <td>3.50</td>\n",
              "      <td>1.25</td>\n",
              "    </tr>\n",
              "    <tr>\n",
              "      <th>A-Sha Dry Noodle</th>\n",
              "      <td>4.067308</td>\n",
              "      <td>5.00</td>\n",
              "      <td>2.00</td>\n",
              "    </tr>\n",
              "    <tr>\n",
              "      <th>...</th>\n",
              "      <td>...</td>\n",
              "      <td>...</td>\n",
              "      <td>...</td>\n",
              "    </tr>\n",
              "    <tr>\n",
              "      <th>Yum Yum</th>\n",
              "      <td>3.750000</td>\n",
              "      <td>5.00</td>\n",
              "      <td>3.00</td>\n",
              "    </tr>\n",
              "    <tr>\n",
              "      <th>Yum-Mie</th>\n",
              "      <td>3.500000</td>\n",
              "      <td>3.50</td>\n",
              "      <td>3.50</td>\n",
              "    </tr>\n",
              "    <tr>\n",
              "      <th>Zow Zow</th>\n",
              "      <td>3.750000</td>\n",
              "      <td>3.75</td>\n",
              "      <td>3.75</td>\n",
              "    </tr>\n",
              "    <tr>\n",
              "      <th>iMee</th>\n",
              "      <td>3.500000</td>\n",
              "      <td>4.50</td>\n",
              "      <td>2.75</td>\n",
              "    </tr>\n",
              "    <tr>\n",
              "      <th>iNoodle</th>\n",
              "      <td>3.000000</td>\n",
              "      <td>3.75</td>\n",
              "      <td>2.25</td>\n",
              "    </tr>\n",
              "  </tbody>\n",
              "</table>\n",
              "<p>355 rows × 3 columns</p>\n",
              "</div>"
            ],
            "text/plain": [
              "                      mean   max   min\n",
              "Brand                                 \n",
              "1 To 3 Noodles    4.000000  4.00  4.00\n",
              "7 Select          3.750000  4.00  3.50\n",
              "7 Select/Nissin   3.500000  3.50  3.50\n",
              "A-One             2.750000  3.50  1.25\n",
              "A-Sha Dry Noodle  4.067308  5.00  2.00\n",
              "...                    ...   ...   ...\n",
              "Yum Yum           3.750000  5.00  3.00\n",
              "Yum-Mie           3.500000  3.50  3.50\n",
              "Zow Zow           3.750000  3.75  3.75\n",
              "iMee              3.500000  4.50  2.75\n",
              "iNoodle           3.000000  3.75  2.25\n",
              "\n",
              "[355 rows x 3 columns]"
            ]
          },
          "metadata": {},
          "execution_count": 12
        }
      ]
    },
    {
      "cell_type": "markdown",
      "metadata": {
        "id": "WlS8KPR3vCTy"
      },
      "source": [
        "What is the mode rating for all ramen?"
      ]
    },
    {
      "cell_type": "code",
      "metadata": {
        "colab": {
          "base_uri": "https://localhost:8080/"
        },
        "id": "0NOJYHPRvFOf",
        "outputId": "88a9f410-cd5e-40bd-fb62-ecfb8aa285e5"
      },
      "source": [
        "dfR.Stars.mode()"
      ],
      "execution_count": 13,
      "outputs": [
        {
          "output_type": "execute_result",
          "data": {
            "text/plain": [
              "0    4\n",
              "dtype: object"
            ]
          },
          "metadata": {},
          "execution_count": 13
        }
      ]
    },
    {
      "cell_type": "markdown",
      "metadata": {
        "id": "VTAhD7vFvFtM"
      },
      "source": [
        "Groupby brand and variety. Can you figure out a way to display this information in descending order (highest to lowest)? Which has the highest average?"
      ]
    },
    {
      "cell_type": "code",
      "metadata": {
        "colab": {
          "base_uri": "https://localhost:8080/",
          "height": 203
        },
        "id": "hDShmVK5vIcz",
        "outputId": "9fc4e82c-f876-4b39-bca3-3237d43b0c43"
      },
      "source": [
        "Grouped = dfR2.groupby([\"Brand\",\"Variety\"]).Stars.mean().reset_index()\n",
        "Grouped.head()\n"
      ],
      "execution_count": 15,
      "outputs": [
        {
          "output_type": "execute_result",
          "data": {
            "text/html": [
              "<div>\n",
              "<style scoped>\n",
              "    .dataframe tbody tr th:only-of-type {\n",
              "        vertical-align: middle;\n",
              "    }\n",
              "\n",
              "    .dataframe tbody tr th {\n",
              "        vertical-align: top;\n",
              "    }\n",
              "\n",
              "    .dataframe thead th {\n",
              "        text-align: right;\n",
              "    }\n",
              "</style>\n",
              "<table border=\"1\" class=\"dataframe\">\n",
              "  <thead>\n",
              "    <tr style=\"text-align: right;\">\n",
              "      <th></th>\n",
              "      <th>Brand</th>\n",
              "      <th>Variety</th>\n",
              "      <th>Stars</th>\n",
              "    </tr>\n",
              "  </thead>\n",
              "  <tbody>\n",
              "    <tr>\n",
              "      <th>0</th>\n",
              "      <td>1 To 3 Noodles</td>\n",
              "      <td>Chatpat Masala</td>\n",
              "      <td>4.0</td>\n",
              "    </tr>\n",
              "    <tr>\n",
              "      <th>1</th>\n",
              "      <td>7 Select</td>\n",
              "      <td>Nissin Instant Noodles Shrimp Ma Nao Lui Suan ...</td>\n",
              "      <td>4.0</td>\n",
              "    </tr>\n",
              "    <tr>\n",
              "      <th>2</th>\n",
              "      <td>7 Select</td>\n",
              "      <td>Nissin Instant Noodles Tom Yum Seafood Creamy ...</td>\n",
              "      <td>3.5</td>\n",
              "    </tr>\n",
              "    <tr>\n",
              "      <th>3</th>\n",
              "      <td>7 Select/Nissin</td>\n",
              "      <td>Super Tom Yum Shrimp</td>\n",
              "      <td>3.5</td>\n",
              "    </tr>\n",
              "    <tr>\n",
              "      <th>4</th>\n",
              "      <td>A-One</td>\n",
              "      <td>Mi Ly Instant Noodles Mi Bo Beef Flavor</td>\n",
              "      <td>3.5</td>\n",
              "    </tr>\n",
              "  </tbody>\n",
              "</table>\n",
              "</div>"
            ],
            "text/plain": [
              "             Brand                                            Variety  Stars\n",
              "0   1 To 3 Noodles                                     Chatpat Masala    4.0\n",
              "1         7 Select  Nissin Instant Noodles Shrimp Ma Nao Lui Suan ...    4.0\n",
              "2         7 Select  Nissin Instant Noodles Tom Yum Seafood Creamy ...    3.5\n",
              "3  7 Select/Nissin                               Super Tom Yum Shrimp    3.5\n",
              "4            A-One            Mi Ly Instant Noodles Mi Bo Beef Flavor    3.5"
            ]
          },
          "metadata": {},
          "execution_count": 15
        }
      ]
    },
    {
      "cell_type": "code",
      "metadata": {
        "colab": {
          "base_uri": "https://localhost:8080/",
          "height": 417
        },
        "id": "e9ug7FnDPt0n",
        "outputId": "12d3217d-09ca-44be-ca54-b853ef92f87d"
      },
      "source": [
        "Grouped.sort_values(by=\"Stars\", ascending=False)\n"
      ],
      "execution_count": 20,
      "outputs": [
        {
          "output_type": "execute_result",
          "data": {
            "text/html": [
              "<div>\n",
              "<style scoped>\n",
              "    .dataframe tbody tr th:only-of-type {\n",
              "        vertical-align: middle;\n",
              "    }\n",
              "\n",
              "    .dataframe tbody tr th {\n",
              "        vertical-align: top;\n",
              "    }\n",
              "\n",
              "    .dataframe thead th {\n",
              "        text-align: right;\n",
              "    }\n",
              "</style>\n",
              "<table border=\"1\" class=\"dataframe\">\n",
              "  <thead>\n",
              "    <tr style=\"text-align: right;\">\n",
              "      <th></th>\n",
              "      <th>Brand</th>\n",
              "      <th>Variety</th>\n",
              "      <th>Stars</th>\n",
              "    </tr>\n",
              "  </thead>\n",
              "  <tbody>\n",
              "    <tr>\n",
              "      <th>474</th>\n",
              "      <td>Indomie</td>\n",
              "      <td>Mi Goreng Jumbo Beef</td>\n",
              "      <td>5.0</td>\n",
              "    </tr>\n",
              "    <tr>\n",
              "      <th>2091</th>\n",
              "      <td>Sun Noodle</td>\n",
              "      <td>Ramen Miso Flavor</td>\n",
              "      <td>5.0</td>\n",
              "    </tr>\n",
              "    <tr>\n",
              "      <th>1951</th>\n",
              "      <td>Samyang Foods</td>\n",
              "      <td>Nagasaki Crab Jjampong</td>\n",
              "      <td>5.0</td>\n",
              "    </tr>\n",
              "    <tr>\n",
              "      <th>275</th>\n",
              "      <td>Dream Kitchen</td>\n",
              "      <td>Curry Flavour Instant Noodles</td>\n",
              "      <td>5.0</td>\n",
              "    </tr>\n",
              "    <tr>\n",
              "      <th>1475</th>\n",
              "      <td>Nissin</td>\n",
              "      <td>Raoh Rich Miso Flavor</td>\n",
              "      <td>5.0</td>\n",
              "    </tr>\n",
              "    <tr>\n",
              "      <th>...</th>\n",
              "      <td>...</td>\n",
              "      <td>...</td>\n",
              "      <td>...</td>\n",
              "    </tr>\n",
              "    <tr>\n",
              "      <th>977</th>\n",
              "      <td>Master Kong</td>\n",
              "      <td>Artificial Abalone Crab Flavor Instant Noodle</td>\n",
              "      <td>0.0</td>\n",
              "    </tr>\n",
              "    <tr>\n",
              "      <th>2182</th>\n",
              "      <td>Thai Smile</td>\n",
              "      <td>Mushroom Rice Noodle Soup Bowl</td>\n",
              "      <td>0.0</td>\n",
              "    </tr>\n",
              "    <tr>\n",
              "      <th>2272</th>\n",
              "      <td>Urban Noodle</td>\n",
              "      <td>Authentic Street Food Black Bean</td>\n",
              "      <td>0.0</td>\n",
              "    </tr>\n",
              "    <tr>\n",
              "      <th>1943</th>\n",
              "      <td>Samyang Foods</td>\n",
              "      <td>Honey &amp; Cheese Big Bowl</td>\n",
              "      <td>0.0</td>\n",
              "    </tr>\n",
              "    <tr>\n",
              "      <th>2231</th>\n",
              "      <td>Uni-President</td>\n",
              "      <td>Mushroom Flavor</td>\n",
              "      <td>0.0</td>\n",
              "    </tr>\n",
              "  </tbody>\n",
              "</table>\n",
              "<p>2517 rows × 3 columns</p>\n",
              "</div>"
            ],
            "text/plain": [
              "              Brand                                        Variety  Stars\n",
              "474         Indomie                           Mi Goreng Jumbo Beef    5.0\n",
              "2091     Sun Noodle                              Ramen Miso Flavor    5.0\n",
              "1951  Samyang Foods                         Nagasaki Crab Jjampong    5.0\n",
              "275   Dream Kitchen                  Curry Flavour Instant Noodles    5.0\n",
              "1475         Nissin                          Raoh Rich Miso Flavor    5.0\n",
              "...             ...                                            ...    ...\n",
              "977     Master Kong  Artificial Abalone Crab Flavor Instant Noodle    0.0\n",
              "2182     Thai Smile                 Mushroom Rice Noodle Soup Bowl    0.0\n",
              "2272   Urban Noodle               Authentic Street Food Black Bean    0.0\n",
              "1943  Samyang Foods                        Honey & Cheese Big Bowl    0.0\n",
              "2231  Uni-President                                Mushroom Flavor    0.0\n",
              "\n",
              "[2517 rows x 3 columns]"
            ]
          },
          "metadata": {},
          "execution_count": 20
        }
      ]
    },
    {
      "cell_type": "code",
      "metadata": {
        "colab": {
          "base_uri": "https://localhost:8080/"
        },
        "id": "I-NLuL6irRhn",
        "outputId": "0bb536a5-5b8c-470b-de29-b86c8aad9b6c"
      },
      "source": [
        "Grouped.max()"
      ],
      "execution_count": 18,
      "outputs": [
        {
          "output_type": "execute_result",
          "data": {
            "text/plain": [
              "Brand                                           iNoodle\n",
              "Variety    三養라면 (Samyang Ramyun) (South Korean Version)\n",
              "Stars                                                 5\n",
              "dtype: object"
            ]
          },
          "metadata": {},
          "execution_count": 18
        }
      ]
    },
    {
      "cell_type": "markdown",
      "metadata": {
        "id": "7HHfgsEZvJKx"
      },
      "source": [
        "How many different brands of ramen are included in the dataset?"
      ]
    },
    {
      "cell_type": "code",
      "metadata": {
        "colab": {
          "base_uri": "https://localhost:8080/"
        },
        "id": "TkkZ1WQJvgGD",
        "outputId": "2d26317c-57e9-4f3c-eda9-28625e2755c0"
      },
      "source": [
        "df['Brand'].nunique()"
      ],
      "execution_count": null,
      "outputs": [
        {
          "output_type": "execute_result",
          "data": {
            "text/plain": [
              "355"
            ]
          },
          "metadata": {},
          "execution_count": 51
        }
      ]
    }
  ]
}